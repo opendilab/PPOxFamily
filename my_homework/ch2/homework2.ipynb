{
 "cells": [
  {
   "attachments": {},
   "cell_type": "markdown",
   "metadata": {},
   "source": [
    "# 1. 重参数化技巧"
   ]
  },
  {
   "attachments": {},
   "cell_type": "markdown",
   "metadata": {},
   "source": [
    "一开始写错了，以为是对`eps`求导，变成了\n",
    "\n",
    "![](demo/reparam_gradient.png)"
   ]
  },
  {
   "cell_type": "code",
   "execution_count": 117,
   "metadata": {},
   "outputs": [
    {
     "name": "stdout",
     "output_type": "stream",
     "text": [
      "naive grad variance: [5.74129343 1.00604956 0.17195452 0.08618732 0.01622461]\n",
      "reparameterization grad variance: [0.39380306 0.03859908 0.00890374 0.00394094 0.00082136]\n"
     ]
    },
    {
     "data": {
      "image/png": "[encoded data removed]",
      "text/plain": [
       "<Figure size 640x480 with 1 Axes>"
      ]
     },
     "metadata": {},
     "output_type": "display_data"
    }
   ],
   "source": [
    "import numpy as np\n",
    "import matplotlib.pyplot as plt\n",
    "def naive_grad(x, mu):\n",
    "    # the naive gradient to mu\n",
    "    # \\nabla_\\mu \\mathbb{E}_q[x^2] = \\mathbb{E}_q[x^2(x-\\mu)]\n",
    "    return np.mean(x ** 2 * (x - mu))\n",
    "    \n",
    "def reparam_grad(eps, mu):\n",
    "    #### You need to finish the reparameterization gradient to mu here ####\n",
    "    # \\nabla_\\mu \\mathbb{E}_q[x^2] = \\mathbb{E}_q[2*(\\varepsilon+\\mu)]\n",
    "\t# return np.mean((2-eps)*(mu+eps))\n",
    "    return np.mean(2*(mu+eps))\n",
    "    \n",
    "def main():\n",
    "    data_size_list = [10, 100, 500, 1000, 5000]\n",
    "    sample_num = 100\n",
    "    mu, sigma = 2.0, 1.0\n",
    "    # variance of the gradient to mu\n",
    "    var1 = np.zeros(len(data_size_list))\n",
    "    var2 = np.zeros(len(data_size_list))\n",
    "\n",
    "    for i, data_size in enumerate(data_size_list):\n",
    "        estimation1 = np.zeros(sample_num)\n",
    "        estimation2 = np.zeros(sample_num)\n",
    "    \n",
    "        for n in range(sample_num):\n",
    "            # 1.naive method\n",
    "            x = np.random.normal(mu, sigma, size=(data_size, ))\n",
    "            estimation1[n] = naive_grad(x, mu)\n",
    "        \n",
    "            # 2.reparameterization method\n",
    "            eps = np.random.normal(0.0, 1.0, size=(data_size, ))\n",
    "            x = eps * sigma + mu\n",
    "            estimation2[n] = reparam_grad(eps, mu)\n",
    "            var1[i] = np.var(estimation1)\n",
    "            var2[i] = np.var(estimation2)\n",
    "            \n",
    "    print('naive grad variance: {}'.format(var1))\n",
    "    print('reparameterization grad variance: {}'.format(var2))\n",
    "    # plot figure\n",
    "    index = [_ for _ in range(len(data_size_list))]\n",
    "    plt.plot(index, var1)\n",
    "    plt.plot(index, var2)\n",
    "    plt.xticks(index, data_size_list)\n",
    "    plt.legend(['naive', 'reparam'])\n",
    "    plt.savefig('demo/reparam.png')\n",
    "    plt.show()\n",
    "\n",
    "if __name__ == \"__main__\":\n",
    "    main()"
   ]
  },
  {
   "cell_type": "markdown",
   "metadata": {},
   "source": [
    "# 2. 连续动作空间（小人越悬崖）"
   ]
  },
  {
   "cell_type": "code",
   "execution_count": 118,
   "metadata": {},
   "outputs": [],
   "source": [
    "import torch\n",
    "import torch.nn as nn\n",
    "from torch.distributions import MultivariateNormal\n",
    "import torch.nn.functional as F "
   ]
  },
  {
   "cell_type": "code",
   "execution_count": 119,
   "metadata": {},
   "outputs": [],
   "source": [
    "class LittleHuman(nn.Module):\n",
    "\n",
    "    def __init__(self, lr = 0.01) -> None:\n",
    "        super().__init__()\n",
    "\n",
    "        self.lr = lr\n",
    "\n",
    "        self.param1 = nn.Parameter(torch.zeros(1), requires_grad=True)\n",
    "        self.param2 = nn.Parameter(torch.zeros(1), requires_grad=True)\n",
    "        # sigma_theta = \n",
    "        # sigma_v = \n",
    "\n",
    "        # 只有 torch 本身的方法才会计算计算图\n",
    "        self.sigma = torch.concat([torch.exp(self.param1) * torch.pi / 2., torch.exp(self.param2) * 10.])\n",
    "        self.hidden = nn.Sequential(\n",
    "            nn.Linear(2, 2),\n",
    "            nn.Tanh()\n",
    "        )\n",
    "\n",
    "\n",
    "    def _get_mu(self, x):\n",
    "        x = 0.5 * (x + 1)\n",
    "        x[..., 0] *= 0.5 * torch.pi\n",
    "        x[..., 1] *= 10.\n",
    "        \n",
    "        return x\n",
    "\n",
    "    def policy(self, d):\n",
    "        x = self.hidden(d)\n",
    "        mu = self._get_mu(x)\n",
    "        dist = MultivariateNormal(mu, scale_tril=torch.diag(self.sigma))\n",
    "\n",
    "        return dist\n",
    "    \n",
    "    def success(self, a, d) -> bool:\n",
    "        theta, v = torch.split(a, 1, -1)\n",
    "        vx = v * torch.cos(theta)\n",
    "        vy = v * torch.cos(theta)\n",
    "\n",
    "        d1, d2 = torch.split(a, 1, -1)\n",
    "        t = d1 / vx\n",
    "        return vy*t - 0.5*9.8*t*t >= d2\n",
    "\n",
    "    def reward(self, action, success):\n",
    "        v = action[...,-1]\n",
    "        return success * (100 - v**2)\n",
    "\n",
    "    def update(self, reward, prob):\n",
    "        \n",
    "        # print(reward * prob)\n",
    "        (reward * prob).mean().backward()\n",
    "        # print(self.param1.grad)\n",
    "\n",
    "        with torch.no_grad():\n",
    "            self.param1 += self.lr *  self.param1.grad\n",
    "            self.param2 += self.lr * self.param2.grad\n",
    "\n",
    "        print(self.hidden[0].weight.grad, self.hidden[0].bias.grad)\n",
    "        print(self.param1.grad, self.param2.grad)\n",
    "\n",
    "    def run(self, d):\n",
    "        dist = self.policy(d)\n",
    "        action = dist.sample()\n",
    "        success = self.success(action, d)\n",
    "        with torch.no_grad():\n",
    "            reward = self.reward(action, success)\n",
    "        prob = dist.log_prob(action)\n",
    "        grad = self.update(reward, prob)\n"
   ]
  },
  {
   "cell_type": "code",
   "execution_count": 120,
   "metadata": {},
   "outputs": [
    {
     "name": "stdout",
     "output_type": "stream",
     "text": [
      "tensor([[0., 0.],\n",
      "        [0., 0.]]) tensor([0., 0.])\n",
      "tensor([0.]) tensor([0.])\n"
     ]
    }
   ],
   "source": [
    "lm = LittleHuman()\n",
    "lm.train()\n",
    "lm.run(torch.tensor([[[0.2, 0.2]]]))"
   ]
  },
  {
   "attachments": {},
   "cell_type": "markdown",
   "metadata": {},
   "source": [
    "# 题⽬3（应⽤实践）\n",
    "在课程第⼆讲（解构复杂动作空间）⼏个应⽤中任选⼀个\n",
    "\n",
    "- ⽕箭回收（离散动作空间）\n",
    "- ⽆⼈机姿态控制（连续动作空间）\n",
    "- 导航控制（混合动作空间）\n",
    "\n",
    "根据课程组给出的⽰例代码，训练得到相应的智能体。最终提交需要上传相关训练代码、⽇志截图或\n",
    "最终所得的智能体效果视频（replay），具体样式可以参考第⼆讲的⽰例ISSUE。"
   ]
  },
  {
   "cell_type": "code",
   "execution_count": null,
   "metadata": {},
   "outputs": [],
   "source": [
    "# Please install latest DI-engine's main branch first\n",
    "# And we will release DI-engine v0.4.6 version with stable and tuned configuration of these demos.\n",
    "from ding.bonus import PPOF\n",
    "\n",
    "\n",
    "def lunarlander_discrete():\n",
    "    # Please install lunarlander env first, `pip3 install box2d`\n",
    "    agent = PPOF(env='lunarlander_discrete', exp_name='./lunarlander_discrete_demo')\n",
    "    agent.train(step=int(1e5))\n",
    "    # Classic RL interaction loop and save replay video\n",
    "    agent.deploy(enable_save_replay=True)\n",
    "\n",
    "\n",
    "def lunarlander_continuous():\n",
    "    # Please install lunarlander env first, `pip3 install box2d`\n",
    "    agent = PPOF(env='lunarlander_continuous', exp_name='./lunarlander_continuous_demo', seed=314)\n",
    "    agent.train(step=int(1e5))\n",
    "    # Batch (Vectorized) evaluation\n",
    "    agent.batch_evaluate(env_num=4, n_evaluator_episode=8)\n",
    "\n",
    "\n",
    "def rocket_landing():\n",
    "    # Please install rocket env first, `pip3 install git+https://github.com/nighood/rocket-recycling@master#egg=rocket_recycling`\n",
    "    agent = PPOF(env='rocket_landing', exp_name='./rocket_landing_demo')\n",
    "    agent.train(step=int(5e6), context='spawn')\n",
    "\n",
    "\n",
    "def drone_fly():\n",
    "    # Please install gym_pybullet_drones env first, `pip3 install git+https://github.com/zjowowen/gym-pybullet-drones@master`\n",
    "    agent = PPOF(env='drone_fly', exp_name='./drone_fly_demo')\n",
    "    agent.train(step=int(5e6))\n",
    "\n",
    "\n",
    "def hybrid_moving():\n",
    "    # Please install gym_hybrid env first, refer to the doc `https://di-engine-docs.readthedocs.io/zh_CN/latest/13_envs/gym_hybrid_zh.html`\n",
    "    agent = PPOF(env='hybrid_moving', exp_name='./hybrid_moving_demo')\n",
    "    agent.train(step=int(5e6))\n",
    "\n",
    "\n",
    "if __name__ == \"__main__\":\n",
    "    # You can select and run your favorite demo\n",
    "    # lunarlander_discrete()\n",
    "    # lunarlander_continuous()\n",
    "    # rocket_landing()\n",
    "    # drone_fly()\n",
    "    hybrid_moving()"
   ]
  }
 ],
 "metadata": {
  "kernelspec": {
   "display_name": "torch11",
   "language": "python",
   "name": "python3"
  },
  "language_info": {
   "codemirror_mode": {
    "name": "ipython",
    "version": 3
   },
   "file_extension": ".py",
   "mimetype": "text/x-python",
   "name": "python",
   "nbconvert_exporter": "python",
   "pygments_lexer": "ipython3",
   "version": "3.9.16"
  },
  "orig_nbformat": 4
 },
 "nbformat": 4,
 "nbformat_minor": 2
}
