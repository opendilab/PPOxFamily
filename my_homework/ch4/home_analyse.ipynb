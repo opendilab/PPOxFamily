{
 "cells": [
  {
   "attachments": {},
   "cell_type": "markdown",
   "metadata": {},
   "source": [
    "# CH4 "
   ]
  },
  {
   "attachments": {},
   "cell_type": "markdown",
   "metadata": {},
   "source": [
    "## homework 1"
   ]
  },
  {
   "attachments": {},
   "cell_type": "markdown",
   "metadata": {},
   "source": [
    "![](demo/image1.png)"
   ]
  },
  {
   "attachments": {},
   "cell_type": "markdown",
   "metadata": {},
   "source": [
    "### Result"
   ]
  },
  {
   "attachments": {},
   "cell_type": "markdown",
   "metadata": {},
   "source": [
    "#### small\n",
    "![](demo/small.png)\n",
    "#### little\n",
    "![](demo/little.png)\n",
    "#### standard\n",
    "![](demo/standard.png)\n",
    "#### large\n",
    "![](demo/large.png)\n",
    "#### very large\n",
    "![](demo/verylarge.png)"
   ]
  },
  {
   "attachments": {},
   "cell_type": "markdown",
   "metadata": {},
   "source": [
    "### Analyse"
   ]
  },
  {
   "attachments": {},
   "cell_type": "markdown",
   "metadata": {},
   "source": [
    "从上面不同模型大小的输出图像分析模型阐述 RND 网络的过拟合和欠拟合问题\n",
    "\n",
    "可以看到在模型参数较小的时候，整体的 RND 网络的 reward 是非常大的，说明模型随机性很大，出现欠拟合\n",
    "\n",
    "随着模型参数量的增加 mse 和 reward 都在往下降，但是当模型逐渐转变到 large 和 very large 的时候 reward_min 无法收敛，发生了过拟合"
   ]
  },
  {
   "attachments": {},
   "cell_type": "markdown",
   "metadata": {},
   "source": [
    "## homework 2 "
   ]
  },
  {
   "attachments": {},
   "cell_type": "markdown",
   "metadata": {},
   "source": [
    "![](demo/image2.png)"
   ]
  },
  {
   "attachments": {},
   "cell_type": "markdown",
   "metadata": {},
   "source": [
    "由于没法制作视频，好像是 metadrive 需要的是 gym=0.19.0 的环境，我安装之后发现运行 deploy 成功但是没法记录视频，因此只能够上传 log"
   ]
  },
  {
   "attachments": {},
   "cell_type": "markdown",
   "metadata": {},
   "source": [
    "log_path = [run-20230312_134251-g1s73ewz]()"
   ]
  }
 ],
 "metadata": {
  "language_info": {
   "name": "python"
  },
  "orig_nbformat": 4
 },
 "nbformat": 4,
 "nbformat_minor": 2
}
